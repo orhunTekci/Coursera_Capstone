{
 "cells": [
  {
   "cell_type": "markdown",
   "metadata": {},
   "source": [
    "# Introduction #\n"
   ]
  },
  {
   "cell_type": "markdown",
   "metadata": {},
   "source": [
    "People travel to places for various purposes such as touristic, business etc. A hotel is a milestone for any travelling plan. Hotels should be able to host as much guests as possible and serve their guests in the best way. In order to that hotel owners and managers must be aware of when and how many guests they will host at their hotels.\n",
    "\n"
   ]
  },
  {
   "cell_type": "markdown",
   "metadata": {},
   "source": [
    "The purpose of travelling vary through seasons and months in a year. The vary in travelling purposes cause variation on people's preferences for what kind of hotel they are willing to stay. These concepts effect number of guests in hotels.\n",
    "\n"
   ]
  },
  {
   "cell_type": "markdown",
   "metadata": {},
   "source": [
    "# Business Problem #"
   ]
  },
  {
   "cell_type": "markdown",
   "metadata": {},
   "source": [
    "\n",
    "In order to serve guests, hotels must predict how many guests they will host. Hotels must prepare their meals, laundry, housekeeping personel and logistics for their amount of guests. The main objective is to prepare the hotel for the number of guests which changes according to the periods of a year.\n",
    "\n"
   ]
  },
  {
   "cell_type": "markdown",
   "metadata": {},
   "source": [
    "Thus, hotels avoid waste and consequently money loss while maximizing their profit."
   ]
  },
  {
   "cell_type": "code",
   "execution_count": null,
   "metadata": {},
   "outputs": [],
   "source": []
  }
 ],
 "metadata": {
  "kernelspec": {
   "display_name": "Python",
   "language": "python",
   "name": "conda-env-python-py"
  },
  "language_info": {
   "codemirror_mode": {
    "name": "ipython",
    "version": 3
   },
   "file_extension": ".py",
   "mimetype": "text/x-python",
   "name": "python",
   "nbconvert_exporter": "python",
   "pygments_lexer": "ipython3",
   "version": "3.6.11"
  }
 },
 "nbformat": 4,
 "nbformat_minor": 4
}
